{
 "cells": [
  {
   "cell_type": "markdown",
   "metadata": {},
   "source": [
    "# **Basic Python**"
   ]
  },
  {
   "cell_type": "markdown",
   "metadata": {},
   "source": [
    "## 1.a \n",
    "Give a function F that takes a single argument n. This function should print a sequence of n strings as described in the examples below: <br>\n",
    "Ex: **n = 3**\n",
    "\n",
    "--A--<br>\n",
    "-BAB-<br>\n",
    "CBABC<br>\n",
    "\n",
    "**n = 4**\n",
    "\n",
    "---A---<br>\n",
    "--BAB--<br>\n",
    "-CBABC-<br>\n",
    "DCBABCD"
   ]
  },
  {
   "cell_type": "code",
   "execution_count": 3,
   "metadata": {},
   "outputs": [
    {
     "name": "stdout",
     "output_type": "stream",
     "text": [
      "---------A---------\n",
      "--------BAB--------\n",
      "-------CBABC-------\n",
      "------DCBABCD------\n",
      "-----EDCBABCDE-----\n",
      "----FEDCBABCDEF----\n",
      "---GFEDCBABCDEFG---\n",
      "--HGFEDCBABCDEFGH--\n",
      "-IHGFEDCBABCDEFGHI-\n",
      "JIHGFEDCBABCDEFGHIJ\n",
      "-----A-----\n",
      "----BAB----\n",
      "---CBABC---\n",
      "--DCBABCD--\n",
      "-EDCBABCDE-\n",
      "FEDCBABCDEF\n"
     ]
    }
   ],
   "source": [
    "def F(n):\n",
    "    for i in range(1, n + 1):\n",
    "        sequence = \"\"\n",
    "        for j in range(1, i + 1):\n",
    "            sequence += chr(65 + i - j)  # letters in reverse order\n",
    "        for j in range(1, i):\n",
    "            sequence += chr(65 + j)  # letters in forward order\n",
    "\n",
    "        final = \"-\" * (n - i)\n",
    "        \n",
    "        print(final + sequence + final)\n",
    "    \n",
    "\n",
    "# Tests\n",
    "F(10)\n",
    "F(6)"
   ]
  },
  {
   "cell_type": "markdown",
   "metadata": {},
   "source": [
    "## 1.b\n",
    "Make a function F that takes only one argument, a dictionary(dict) d.\n",
    "The keys of d are integers and the values of d are a tuple of type (x (int), y (int)).\n",
    "You must print out the dict in the format \"-key-, -x-, -y-\" with each entry in a new line. Print it for each of the three sorted orders, by key values ascending, by x values descending, by y values ascending."
   ]
  },
  {
   "cell_type": "code",
   "execution_count": 5,
   "metadata": {},
   "outputs": [
    {
     "name": "stdout",
     "output_type": "stream",
     "text": [
      "Sorted by key (ascending):\n",
      "1, 1, 2\n",
      "2, -1, 4\n",
      "4, 2, 3\n",
      "5, -4, 3\n",
      "\n",
      "Sorted by x (descending):\n",
      "4, 2, 3\n",
      "1, 1, 2\n",
      "2, -1, 4\n",
      "5, -4, 3\n",
      "\n",
      "Sorted by y (ascending):\n",
      "1, 1, 2\n",
      "5, -4, 3\n",
      "4, 2, 3\n",
      "2, -1, 4\n",
      "Sorted by key (ascending):\n",
      "-8, 4, 2\n",
      "5, 9, -10\n",
      "6, -3, 4\n",
      "7, 2, 1\n",
      "\n",
      "Sorted by x (descending):\n",
      "5, 9, -10\n",
      "-8, 4, 2\n",
      "7, 2, 1\n",
      "6, -3, 4\n",
      "\n",
      "Sorted by y (ascending):\n",
      "5, 9, -10\n",
      "7, 2, 1\n",
      "-8, 4, 2\n",
      "6, -3, 4\n"
     ]
    }
   ],
   "source": [
    "def F(d):\n",
    "    # Sorting and printing by key values in ascending order\n",
    "    print(\"Sorted by key (ascending):\")\n",
    "    for key in sorted(d.keys()):\n",
    "        x, y = d[key]\n",
    "        print(f\"{key}, {x}, {y}\")\n",
    "\n",
    "    # Sorting and printing by x values in descending order\n",
    "    print(\"\\nSorted by x (descending):\")\n",
    "    for key, (x, y) in sorted(d.items(), key=lambda item: item[1][0], reverse=True):\n",
    "        print(f\"{key}, {x}, {y}\")\n",
    "\n",
    "    # Sorting and printing by y values in ascending order\n",
    "    print(\"\\nSorted by y (ascending):\")\n",
    "    for key, (x, y) in sorted(d.items(), key=lambda item: item[1][1]):\n",
    "        print(f\"{key}, {x}, {y}\")\n",
    "    \n",
    "\n",
    "# Tests\n",
    "F({1 : (1, 2), 2 : (-1, 4), 5 : (-4, 3), 4 : (2, 3)})\n",
    "F({-8 : (4, 2), 6 : (-3, 4), 7 : (2, 1), 5 : (9, -10)})"
   ]
  },
  {
   "cell_type": "markdown",
   "metadata": {},
   "source": [
    "## 2 Working with Student Records\n",
    "\n",
    "Use the data in **student_records.csv** to complete the given tasks. Do not include any external libraries. Use a Python dictionary if required.\n",
    "\n",
    "### Reference\n",
    "- [Python Dictionaries](https://www.w3schools.com/python/python_dictionaries.asp)\n"
   ]
  },
  {
   "cell_type": "markdown",
   "metadata": {},
   "source": [
    "#### 2.a: open the student_records.csv file and print out the first 10 rows"
   ]
  },
  {
   "cell_type": "code",
   "execution_count": null,
   "metadata": {},
   "outputs": [],
   "source": [
    "import pandas as pd\n",
    " \n",
    "data = pd.read_csv(student_records.csv)\n",
    "print(data.head(10))"
   ]
  },
  {
   "cell_type": "markdown",
   "metadata": {},
   "source": [
    "#### 2.b: Print out the total credits and calculte CPI of each student. \n",
    "CPI is the weighted average of core courses, and electives (weights being the letter grades converted to number AP,AA=10, AB=9, BB=9, BC=7, CC=6)"
   ]
  },
  {
   "cell_type": "code",
   "execution_count": null,
   "metadata": {},
   "outputs": [],
   "source": [
    "import pandas as pd\n",
    "\n",
    "\n",
    "grade_to_points = {\n",
    "        'AP': 10, 'AA': 10,\n",
    "        'AB': 9, 'BB': 8,\n",
    "        'BC': 7, 'CC': 6\n",
    "    }\n",
    "    \n",
    " \n",
    "data = pd.read_csv(student_records.csv)\n",
    "        \n",
    "        # Map grades to numeric points\n",
    "data['Grade Points'] = data['Grade'].map(grade_to_points)\n",
    "        \n",
    "        \n",
    "data['Weighted Grade'] = data['Credits'] * data['Grade Points']\n",
    "       \n",
    "result = data.groupby('StudentID').agg(\n",
    "            Total_Credits=('Credits', 'sum'),\n",
    "            Total_Weighted_Grade=('Weighted Grade', 'sum')\n",
    "        )\n",
    "        \n",
    "result['CPI'] = result['Total_Weighted_Grade'] / result['Total_Credits']\n",
    "        \n",
    "        \n",
    "result.reset_index(inplace=True)\n",
    "        \n",
    "       \n",
    "print(result)"
   ]
  },
  {
   "cell_type": "markdown",
   "metadata": {},
   "source": [
    "#### 2.c: Print out the names of all students who meet the graduation requirements \n",
    "Atleast 20 credist of core course, 15 credits of department elective, 10 credits of flexible elective and 5 credits of hasmed electives"
   ]
  },
  {
   "cell_type": "code",
   "execution_count": null,
   "metadata": {},
   "outputs": [],
   "source": [
    "import pandas as pd\n",
    "\n",
    "def check_graduation_requirements(file_name):\n",
    "  \n",
    "        \n",
    "        data = pd.read_csv(student_records.csv)\n",
    "        \n",
    "        core_credits = data[data['Course Type'] == 'Core'].groupby('StudentID')['Credits'].sum()\n",
    "        dept_credits = data[data['Course Type'] == 'Department Elective'].groupby('StudentID')['Credits'].sum()\n",
    "        flex_credits = data[data['Course Type'] == 'Flexible Elective'].groupby('StudentID')['Credits'].sum()\n",
    "        hassmed_credits = data[data['Course Type'] == 'HASSMED Elective'].groupby('StudentID')['Credits'].sum()\n",
    "\n",
    "\n",
    "        credit_summary = pd.DataFrame({\n",
    "            'Core Credits': core_credits,\n",
    "            'Department Elective Credits': dept_credits,\n",
    "            'Flexible Elective Credits': flex_credits,\n",
    "            'HASSMED Credits': hassmed_credits\n",
    "        }).fillna(0)  \n",
    "\n",
    "        \n",
    "        credit_summary['Meets Requirements'] = (\n",
    "            (credit_summary['Core Credits'] >= 20) &\n",
    "            (credit_summary['Department Elective Credits'] >= 15) &\n",
    "            (credit_summary['Flexible Elective Credits'] >= 10) &\n",
    "            (credit_summary['HASSMED Credits'] >= 5)\n",
    "        )\n",
    "\n",
    "      \n",
    "        graduating_students = credit_summary[credit_summary['Meets Requirements']]\n",
    "        \n",
    "        \n",
    "        if not graduating_students.empty:\n",
    "            print(\"Students meeting graduation requirements:\")\n",
    "            print(graduating_students.index.tolist())\n",
    "        else:\n",
    "            print(\"No students meet the graduation requirements.\")\n",
    "    \n",
    "    \n",
    "\n",
    "check_graduation_requirements('student_records.csv')\n"
   ]
  },
  {
   "cell_type": "markdown",
   "metadata": {},
   "source": [
    "#### 2.d: Print out the names of all students who completed a minor \n",
    "Atleast 10 credits with minor tag in a specific department"
   ]
  },
  {
   "cell_type": "code",
   "execution_count": null,
   "metadata": {},
   "outputs": [],
   "source": [
    "import pandas as pd\n",
    "\n",
    "\n",
    "data = pd.read_csv('student_records.csv')\n",
    "\n",
    "minor_courses = data[data['Course Type'] == 'Minor']\n",
    "\n",
    "\n",
    "minor_credits = minor_courses.groupby(['StudentID', 'Department'])['Credits'].sum()\n",
    "\n",
    "\n",
    "eligible_minors = minor_credits[minor_credits >= 10].reset_index()\n",
    "\n",
    "\n",
    "students_with_minors = pd.merge(eligible_minors, data[['StudentID', 'Name']].drop_duplicates(), on='StudentID')\n",
    "\n",
    "print(\"Students who completed a minor:\")\n",
    "print(students_with_minors[['Name', 'Department', 'Credits']])\n"
   ]
  },
  {
   "cell_type": "markdown",
   "metadata": {},
   "source": [
    "#### 2.e: Print out the names of all students who completed a honours\n",
    "Atleast 10 credits with honours tag and 20 core credits"
   ]
  },
  {
   "cell_type": "code",
   "execution_count": null,
   "metadata": {},
   "outputs": [],
   "source": [
    "import pandas as pd\n",
    "\n",
    "data = pd.read_csv('student_records.csv')\n",
    "\n",
    "\n",
    "honors_courses = data[data['Course Type'] == 'Honors']\n",
    "core_courses = data[data['Course Type'] == 'Core']\n",
    "\n",
    "\n",
    "honors_credits = honors_courses.groupby('StudentID')['Credits'].sum()\n",
    "core_credits = core_courses.groupby('StudentID')['Credits'].sum()\n",
    "\n",
    "credits_summary = pd.DataFrame({\n",
    "    'Honors Credits': honors_credits,\n",
    "    'Core Credits': core_credits\n",
    "}).fillna(0)\n",
    "\n",
    "\n",
    "eligible_honors = credits_summary[(credits_summary['Honors Credits'] >= 10) & \n",
    "                                  (credits_summary['Core Credits'] >= 20)].reset_index()\n",
    "\n",
    "\n",
    "honors_students = pd.merge(eligible_honors, data[['StudentID', 'Name']].drop_duplicates(), on='StudentID')\n",
    "\n",
    "\n",
    "print(\"Students who completed honors:\")\n",
    "print(honors_students[['Name', 'Honors Credits', 'Core Credits']])\n"
   ]
  },
  {
   "cell_type": "markdown",
   "metadata": {},
   "source": [
    "# **SciPy** "
   ]
  },
  {
   "cell_type": "markdown",
   "metadata": {},
   "source": [
    "## Part A\n",
    "Minimize the function $f(x, y) = 2(x - y - 3)^2 + 4(x + 2y + 1)^4$.<br>\n",
    "With the constraints : $ x - y \\ge -3, (x + 2)^2 + (y + 1)^2 \\le 5$ <br>\n",
    "Using scipy.optimize.minimize with constraints. (Hint: Look at the examples in the official documentation)"
   ]
  },
  {
   "cell_type": "code",
   "execution_count": null,
   "metadata": {},
   "outputs": [],
   "source": [
    "import numpy as np\n",
    "from scipy.optimize import minimize\n",
    "\n",
    "\n",
    "def objective(x):\n",
    "    return 2 * (x[0] - x[1] - 3)**2 + 4 * (x[0] + 2 * x[1] + 1)**4\n",
    "\n",
    "constraints = [\n",
    "    {'type': 'ineq', 'fun': lambda x: x[0] - x[1] + 3},  # x - y >= -3\n",
    "    {'type': 'ineq', 'fun': lambda x: 5 - ((x[0] + 2)**2 + (x[1] + 1)**2)}  # (x + 2)^2 + (y + 1)^2 <= 5\n",
    "]\n",
    "\n",
    "\n",
    "x0 = [0, 0]\n",
    "\n",
    "\n",
    "result = minimize(objective, x0, constraints=constraints)\n",
    "\n",
    "\n",
    "print(\"Optimal solution:\", result.x)\n",
    "print(\"Objective function value at optimal solution:\", result.fun)\n"
   ]
  },
  {
   "cell_type": "markdown",
   "metadata": {},
   "source": [
    "# Part B\n",
    "Evaluate the line integral of the function $f(x, y) = x^2 + y^4$ along the circle $ x^2 + y^2 = 3 $ anticlockwise (scalar integral, not vector). You must use scipy for integration but you may use parameterization"
   ]
  },
  {
   "cell_type": "code",
   "execution_count": null,
   "metadata": {},
   "outputs": [],
   "source": [
    "import numpy as np\n",
    "from scipy.integrate import quad\n",
    "\n",
    "def integrand(t):\n",
    "    \"\"\"Integrand for the line integral along the circle.\"\"\"\n",
    "   \n",
    "    # Parameterization: x = sqrt(3)*cos(t), y = sqrt(3)*sin(t)\n",
    "    x = np.sqrt(3) * np.cos(t)\n",
    "    y = np.sqrt(3) * np.sin(t)\n",
    "    f_xy = x**2 + y**4\n",
    "    ds = np.sqrt(3) \n",
    "    return f_xy * ds\n",
    "\n",
    "\n",
    "t_min = 0\n",
    "t_max = 2 * np.pi\n",
    "\n",
    "\n",
    "result, error = quad(integrand, t_min, t_max)\n",
    "\n",
    "\n",
    "print(f\"Value of the line integral: {result:.4f}\")\n",
    "print(f\"Estimated error: {error:.4e}\")\n"
   ]
  },
  {
   "cell_type": "markdown",
   "metadata": {},
   "source": [
    "# **Numpy**"
   ]
  },
  {
   "cell_type": "markdown",
   "metadata": {},
   "source": [
    "### Read Lisan_Al_Gaib.pdf for problem description and complete the following functions"
   ]
  },
  {
   "cell_type": "code",
   "execution_count": null,
   "metadata": {},
   "outputs": [],
   "source": [
    "import time # to time the execution\n",
    "import numpy as np\n",
    "import matplotlib.pyplot as plt"
   ]
  },
  {
   "cell_type": "code",
   "execution_count": null,
   "metadata": {},
   "outputs": [],
   "source": [
    "\n",
    "\n",
    "def load_data(data_path):\n",
    "\n",
    "        # Load the data from the file\n",
    "        data = np.loadtxt(data_path, delimiter=\",\")\n",
    "        # Ensure the data is Nx2\n",
    "        if data.shape[1] != 2:\n",
    "            raise ValueError(\"Input file does not contain 2D coordinates.\")\n",
    "        return data\n",
    "\n",
    "\n"
   ]
  },
  {
   "cell_type": "code",
   "execution_count": null,
   "metadata": {},
   "outputs": [],
   "source": [
    "\n",
    "\n",
    "def initialise_centers(data, K, init_centers=None):\n",
    "    if init_centers is None:\n",
    "        # Select K random data points without replacement as initial centers\n",
    "        indices = np.random.choice(data.shape[0], size=K, replace=False)\n",
    "        centers = data[indices]\n",
    "    else:\n",
    "        # Use the provided initial centers\n",
    "        centers = init_centers\n",
    "    \n",
    "    return centers\n"
   ]
  },
  {
   "cell_type": "code",
   "execution_count": null,
   "metadata": {},
   "outputs": [],
   "source": [
    "\n",
    "\n",
    "def initialise_labels(data):\n",
    "  \n",
    "    N = data.shape[0]\n",
    "    # Initialize labels to all ones\n",
    "    labels = np.ones(N, dtype=int)\n",
    "    return labels\n"
   ]
  },
  {
   "cell_type": "code",
   "execution_count": null,
   "metadata": {},
   "outputs": [],
   "source": [
    "import numpy as np\n",
    "\n",
    "def calculate_distances(data, centers):\n",
    "    distances = np.linalg.norm(data[:, np.newaxis, :] - centers, axis=2)\n",
    "    return distances\n"
   ]
  },
  {
   "cell_type": "code",
   "execution_count": null,
   "metadata": {},
   "outputs": [],
   "source": [
    "import numpy as np\n",
    "\n",
    "def update_labels(distances):\n",
    "    labels = np.argmin(distances, axis=1)\n",
    "    return labels\n"
   ]
  },
  {
   "cell_type": "code",
   "execution_count": null,
   "metadata": {},
   "outputs": [],
   "source": [
    "import numpy as np\n",
    "\n",
    "def update_centers(data, labels, K):\n",
    "    centers = np.zeros((K, data.shape[1])) \n",
    "    for k in range(K):\n",
    "      \n",
    "        cluster_points = data[labels == k]\n",
    "        if cluster_points.shape[0] > 0:\n",
    "            centers[k] = np.mean(cluster_points, axis=0)\n",
    "    \n",
    "    return centers\n",
    "\n"
   ]
  },
  {
   "cell_type": "code",
   "execution_count": null,
   "metadata": {},
   "outputs": [],
   "source": [
    "### TODO 6 : Check convergence\n",
    "### Check if the labels have changed from the previous iteration\n",
    "### Return : True / False\n",
    "def check_termination(labels1, labels2):\n",
    "    return None"
   ]
  },
  {
   "cell_type": "code",
   "execution_count": null,
   "metadata": {},
   "outputs": [],
   "source": [
    "### DON'T CHANGE ANYTHING IN THE FOLLOWING FUNCTION\n",
    "def kmeans(data_path:str, K:int, init_centers):\n",
    "    '''\n",
    "    Input :\n",
    "        data (type str): path to the file containing the data\n",
    "        K (type int): number of clusters\n",
    "        init_centers (type numpy.ndarray): initial centers. shape = (K, 2) or None\n",
    "    Output :\n",
    "        centers (type numpy.ndarray): final centers. shape = (K, 2)\n",
    "        labels (type numpy.ndarray): label of each data point. shape = (N,)\n",
    "        time (type float): time taken by the algorithm to converge in seconds\n",
    "    N is the number of data points each of shape (2,)\n",
    "    '''\n",
    "    data = load_data(data_path)    \n",
    "    centers = initialise_centers(data, K, init_centers)\n",
    "    labels = initialise_labels(data)\n",
    "\n",
    "    start_time = time.time() # Time stamp \n",
    "\n",
    "    while True:\n",
    "        distances = calculate_distances(data, centers)\n",
    "        labels_new = update_labels(distances)\n",
    "        centers = update_centers(data, labels_new, K)\n",
    "        if check_termination(labels, labels_new): break\n",
    "        else: labels = labels_new\n",
    " \n",
    "    end_time = time.time() # Time stamp after the algorithm ends\n",
    "    return centers, labels, end_time - start_time "
   ]
  },
  {
   "cell_type": "code",
   "execution_count": null,
   "metadata": {},
   "outputs": [],
   "source": [
    "def visualise(data_path, labels, centers):\n",
    " \n",
    "    data = load_data(data_path)\n",
    "\n",
    "    plt.scatter(data[:, 0], data[:, 1], c=labels, s=50, cmap='viridis')\n",
    "\n",
    "    plt.scatter(centers[:, 0], centers[:, 1], c='black', s=200, alpha=0.5)\n",
    "\n",
    "    plt.title('K-means clustering')\n",
    "\n",
    "    plt.xlabel('Longitude')\n",
    "\n",
    "    plt.ylabel('Latitude')\n",
    "\n",
    "    plt.savefig('kmeans.png')\n",
    "\n",
    "    return plt\n"
   ]
  },
  {
   "cell_type": "code",
   "execution_count": null,
   "metadata": {},
   "outputs": [],
   "source": [
    "### After you have completed the above functions, run the following code to generate the plot\n",
    "data_path = 'spice_locations.txt'\n",
    "K, init_centers = 2, None\n",
    "centers, labels, time_taken = kmeans(data_path, K, init_centers)\n",
    "print('Time taken for the algorithm to converge:', time_taken)\n",
    "visualise(data_path, labels, centers)"
   ]
  }
 ],
 "metadata": {
  "kernelspec": {
   "display_name": "Python 3",
   "language": "python",
   "name": "python3"
  },
  "language_info": {
   "codemirror_mode": {
    "name": "ipython",
    "version": 3
   },
   "file_extension": ".py",
   "mimetype": "text/x-python",
   "name": "python",
   "nbconvert_exporter": "python",
   "pygments_lexer": "ipython3",
   "version": "3.12.0"
  }
 },
 "nbformat": 4,
 "nbformat_minor": 2
}
